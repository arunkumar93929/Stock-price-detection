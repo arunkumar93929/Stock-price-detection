{
 "cells": [
  {
   "cell_type": "code",
   "execution_count": null,
   "id": "475c3017-979d-43ae-b98a-1e12d896d312",
   "metadata": {},
   "outputs": [],
   "source": [
    "import yfinance as yf\n",
    "import pandas as pd\n",
    "import numpy as np\n",
    "import seaborn as sb\n",
    "import matplotlib.pyplot as plt\n"
   ]
  },
  {
   "cell_type": "code",
   "execution_count": null,
   "id": "b0a0851b-c071-4b6f-a107-b7ff8711db59",
   "metadata": {},
   "outputs": [],
   "source": [
    "stocks = input(\"enter the stock code: \")\n",
    "data=yf.download(stocks,\"2005-01-01\",\"2024-01-01\")\n",
    "data.head(10)\n"
   ]
  },
  {
   "cell_type": "code",
   "execution_count": null,
   "id": "43c894f1-2aae-4000-ba57-8da9918fdb9c",
   "metadata": {},
   "outputs": [],
   "source": [
    "data.shape"
   ]
  },
  {
   "cell_type": "code",
   "execution_count": null,
   "id": "e54260ef-f12f-4abf-af9d-f94fe2ac399e",
   "metadata": {},
   "outputs": [],
   "source": [
    "data.info()"
   ]
  },
  {
   "cell_type": "code",
   "execution_count": null,
   "id": "5acd120f-1889-4476-9cfe-05e4914708d0",
   "metadata": {},
   "outputs": [],
   "source": [
    "data.describe()\n"
   ]
  },
  {
   "cell_type": "code",
   "execution_count": null,
   "id": "607a1a93-8a5c-4d6f-8608-7bfa485707d9",
   "metadata": {},
   "outputs": [],
   "source": [
    "data.Close.plot(figsize=(10,7),color='g');\n",
    "plt.ylabel(\"{} stock prices\".format(stocks))\n",
    "plt.title(\"{} stock graph\".format(stocks))\n",
    "plt.show()"
   ]
  },
  {
   "cell_type": "code",
   "execution_count": null,
   "id": "a4d163d4-f1ef-4bec-8fd2-13b6e8bb2bc3",
   "metadata": {},
   "outputs": [],
   "source": [
    "sb.distplot(data[\"Close\"])"
   ]
  },
  {
   "cell_type": "code",
   "execution_count": null,
   "id": "0c9eb3e1-3e90-4df2-a773-9f4aed400eb4",
   "metadata": {},
   "outputs": [],
   "source": [
    "X= data.drop(\"Close\",axis=1)\n",
    "Y=data[\"Close\"]"
   ]
  },
  {
   "cell_type": "code",
   "execution_count": null,
   "id": "f4b6839f-1c2e-4a86-8e32-49f79d6de68a",
   "metadata": {},
   "outputs": [],
   "source": [
    "from sklearn.model_selection import train_test_split\n",
    "X_train,X_test, y_train, y_test= train_test_split(X,Y, test_size=0.2,random_state=0)\n",
    "X_train.shape"
   ]
  },
  {
   "cell_type": "code",
   "execution_count": null,
   "id": "f357aa95-3d07-47d6-861e-9c33b1b3b382",
   "metadata": {},
   "outputs": [],
   "source": [
    "from sklearn.linear_model import LinearRegression\n",
    "model= LinearRegression()\n",
    "model.fit(X_train,y_train)"
   ]
  },
  {
   "cell_type": "code",
   "execution_count": null,
   "id": "f8ea690c-cc8b-44a5-993c-4513078c3ca6",
   "metadata": {},
   "outputs": [],
   "source": [
    "pred1= model.predict(X_test)\n",
    "pred1"
   ]
  },
  {
   "cell_type": "code",
   "execution_count": null,
   "id": "33b8448b-dc4a-4172-a804-defdf7982f70",
   "metadata": {},
   "outputs": [],
   "source": [
    "y_test"
   ]
  },
  {
   "cell_type": "code",
   "execution_count": null,
   "id": "4429f2ac-0bcf-4c11-b0d2-8070aa9ce4c1",
   "metadata": {},
   "outputs": [],
   "source": [
    "from sklearn.metrics import mean_squared_error,r2_score\n",
    "\n",
    "def calculate_metrics(y_test,y_pred):\n",
    "    mse=mean_squared_error(y_test,y_pred)\n",
    "    rmse=np.sqrt(mse)\n",
    "    r2_scor=r2_score(y_test,y_pred)\n",
    "\n",
    "    print(\"MSE:\", mse)\n",
    "    print(\"RMSE\",rmse)\n",
    "    print(\"r2 score\",r2_scor)\n",
    "calculate_metrics(y_test,pred1)\n",
    "\n",
    "    "
   ]
  },
  {
   "cell_type": "code",
   "execution_count": null,
   "id": "1238f3ee-d083-4265-af9e-8f39c735d41d",
   "metadata": {},
   "outputs": [],
   "source": [
    "from sklearn.linear_model import Lasso , Ridge\n",
    "la=Lasso().fit(X_train,y_train)\n",
    "ri=Ridge().fit(X_train,y_train)\n",
    "la_p=la.predict(X_test)\n",
    "ri_p=ri.predict(X_test)\n"
   ]
  },
  {
   "cell_type": "code",
   "execution_count": null,
   "id": "b583cdbc-f7d6-41f3-b40a-136a20cafbc1",
   "metadata": {},
   "outputs": [],
   "source": [
    "calculate_metrics(y_test,ri_p)"
   ]
  },
  {
   "cell_type": "code",
   "execution_count": null,
   "id": "95e68124-ba40-4f1d-ad08-57ff03a379e9",
   "metadata": {},
   "outputs": [],
   "source": [
    "from sklearn.svm import SVR\n",
    "from sklearn.model_selection import GridSearchCV\n",
    "\n",
    "svr=SVR()\n",
    "param_grid={'C': [0.1, 1, 10, 100, 1000],  \n",
    "              'gamma': [1, 0.1, 0.01, 0.001, 0.0001], \n",
    "              'kernel': ['rbf']}  \n",
    "\n",
    "grid=GridSearchCV(SVR(),param_grid,refit=True,verbose=3)\n",
    "grid.fit(X_train,y_train)"
   ]
  },
  {
   "cell_type": "code",
   "execution_count": null,
   "id": "1c184fa0-dbb1-4454-88ec-3a99d0ecc011",
   "metadata": {},
   "outputs": [],
   "source": [
    "svr=SVR(C=10,gamma=0.01,kernel='rbf')\n",
    "svr.fit(X_train,y_train)\n",
    "svr_pred=svr.predict(X_test)"
   ]
  },
  {
   "cell_type": "code",
   "execution_count": null,
   "id": "03849698-4d0c-46ee-93a1-8aa20cb61f13",
   "metadata": {},
   "outputs": [],
   "source": [
    "import joblib\n",
    "\n",
    "joblib.dump(ri,'model.pkl')\n",
    "\n",
    "ridge_from_joblib=model=joblib.load(\"model.pkl\")"
   ]
  }
 ],
 "metadata": {
  "kernelspec": {
   "display_name": "base",
   "language": "python",
   "name": "python3"
  },
  "language_info": {
   "codemirror_mode": {
    "name": "ipython",
    "version": 3
   },
   "file_extension": ".py",
   "mimetype": "text/x-python",
   "name": "python",
   "nbconvert_exporter": "python",
   "pygments_lexer": "ipython3",
   "version": "3.12.4"
  }
 },
 "nbformat": 4,
 "nbformat_minor": 5
}
